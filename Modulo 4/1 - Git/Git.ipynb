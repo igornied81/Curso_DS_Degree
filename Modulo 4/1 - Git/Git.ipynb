{
 "cells": [
  {
   "cell_type": "markdown",
   "metadata": {},
   "source": [
    "### Começando\n",
    "\n",
    "#### Criar conta no github ou gitlab\n",
    "Acesse o link abaixo e cadastre-se.\n",
    "\n",
    "<a href=\"https://github.com/\" target=\"_blank\">Github</a> <br>\n",
    "<a href=\"https://gitlab.com/\" target=\"_blank\">Gitlab</a>\n",
    "\n",
    "\n",
    "#### Arquivos git\n",
    "Vamos dar uma olhada nos principais arquivos do git:\n",
    "* .git\n",
    "* .gitignore\n",
    "* .keep\n",
    "* README.md\n",
    "\n",
    "#### Instalando o git\n",
    "\n",
    "O git é instalado como qualquer outro programa, seja por um instalador do Windows ou pelo package manager do Linux.\n",
    "Dependendo da sua distribuição Linux você consegue instalar pelo comando `sudo apt-get install git`. \n",
    "Para windows e mac siga o <a href=\"https://git-scm.com/book/pt-br/v2/Come%C3%A7ando-Instalando-o-Git\" target=\"_blank\">tutorial</a>.\n",
    "    \n",
    "\n",
    "Depois de instalado, ele já pode ser usado em um terminal, independente do sistema operacional. <br>\n",
    "Uma das primeiras coisas a se fazer é configurar sua conta do Git, pois ele usa um nome de usuário para associar os commits a uma identidade de forma que seus commits ficam mais facil de serem identificados. Essa configuração será feita uma única vez por computador. <br>\n",
    "Para isso, é preciso executar 2 comandos a fim de configurar seu nome de usuário e endereço de e-mail:\n",
    "\n",
    "`\n",
    "git config --global user.name \"Seu Nome\"\n",
    "git config --global user.email seuemail@exemplo.com\n",
    "` <br> <br>\n",
    "o user.name não precisa ser o mesmo do github ou gitlab, mas o e-mail sim.\n",
    "\n",
    "#### Testando Suas Configurações\n",
    "`git config --list` <br><br>\n",
    "Depois disso, já podemos começar a usar o git.\n",
    "\n",
    "_________________\n",
    "_________________\n",
    "**Exercício:**\n",
    "1. Cadastre-se no Github\n",
    "2. Instale o git em sua máquina\n",
    "3. Teste o comando `git` no terminal/cmd\n",
    "4. Realize as configurações necessárias\n",
    "5. Teste as configurações\n",
    "6. Crie um projeto dentro do seu repositório remoto\n",
    "_________________\n",
    "_________________\n"
   ]
  },
  {
   "cell_type": "markdown",
   "metadata": {},
   "source": [
    "Agora que você já tem uma cópia do repositório no seu computador, já podemos começar a trabalhar com o código. No entanto, é sempre bom executar um `git pull` (que baixa as últimas alterações no repositório) antes de começar a trabalhar.Isso evita conflitos caso seu repositório esteja desatualizado. Depois que tivermos feitas as mudanças e estivermos satisfeitos com o código, podemos enviá-lo para o GitHub (`git push`).\n",
    "\n",
    "\n",
    "_________________\n",
    "_________________\n",
    "**Exercício:**\n",
    "1. Clone o repositório de aula\n",
    "2. Clone o repositório que você criou anteriormente\n",
    "3. Copie a pasta do repositório de aula para o seu repositório local\n",
    "4. Dentro do seu repositório criado local, crie uma pasta para cada módulo do curso e adicione o arquivo .keep\n",
    "5. Utilize os comandos ensinados para enviar essas atualizações para o seu repositório criado remoto\n",
    "6. Passe o link do seu repositório remoto para os professores\n",
    "_________________\n",
    "_________________\n"
   ]
  }
 ],
 "metadata": {
  "kernelspec": {
   "display_name": "Python 3",
   "language": "python",
   "name": "python3"
  },
  "language_info": {
   "codemirror_mode": {
    "name": "ipython",
    "version": 3
   },
   "file_extension": ".py",
   "mimetype": "text/x-python",
   "name": "python",
   "nbconvert_exporter": "python",
   "pygments_lexer": "ipython3",
   "version": "3.8.8"
  }
 },
 "nbformat": 4,
 "nbformat_minor": 4
}
