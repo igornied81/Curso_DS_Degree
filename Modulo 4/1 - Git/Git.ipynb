{
 "cells": [
  {
   "cell_type": "markdown",
   "metadata": {},
   "source": [
    "Agora que você já tem uma cópia do repositório no seu computador, já podemos começar a trabalhar com o código. No entanto, é sempre bom executar um `git pull` (que baixa as últimas alterações no repositório) antes de começar a trabalhar.Isso evita conflitos caso seu repositório esteja desatualizado. Depois que tivermos feitas as mudanças e estivermos satisfeitos com o código, podemos enviá-lo para o GitHub (`git push`).\n",
    "\n",
    "\n",
    "_________________\n",
    "_________________\n",
    "**Exercício:**\n",
    "1. Clone o repositório de aula\n",
    "2. Clone o repositório que você criou anteriormente\n",
    "3. Copie a pasta do repositório de aula para o seu repositório local\n",
    "4. Dentro do seu repositório criado local, crie uma pasta para cada módulo do curso e adicione o arquivo .keep\n",
    "5. Utilize os comandos ensinados para enviar essas atualizações para o seu repositório criado remoto\n",
    "6. Passe o link do seu repositório remoto para os professores\n",
    "_________________\n",
    "_________________\n"
   ]
  }
 ],
 "metadata": {
  "kernelspec": {
   "display_name": "Python 3",
   "language": "python",
   "name": "python3"
  },
  "language_info": {
   "codemirror_mode": {
    "name": "ipython",
    "version": 3
   },
   "file_extension": ".py",
   "mimetype": "text/x-python",
   "name": "python",
   "nbconvert_exporter": "python",
   "pygments_lexer": "ipython3",
   "version": "3.8.8"
  }
 },
 "nbformat": 4,
 "nbformat_minor": 4
}
