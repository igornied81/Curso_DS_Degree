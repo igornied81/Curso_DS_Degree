{
 "cells": [
  {
   "cell_type": "markdown",
   "id": "7cfcd058-28c1-4439-87fb-50c12ca3ffbc",
   "metadata": {
    "tags": []
   },
   "source": [
    "Nome: IGOR DUARTE NIEDERAUER"
   ]
  },
  {
   "cell_type": "markdown",
   "id": "6b393372-221b-46f9-92be-edf7f1069895",
   "metadata": {},
   "source": [
    "Compare two linked lists"
   ]
  },
  {
   "cell_type": "code",
   "execution_count": null,
   "id": "da764a9f-e2d4-4b04-812a-74ea8eb7c2f2",
   "metadata": {
    "tags": []
   },
   "outputs": [],
   "source": [
    "# Complete the compare_lists function below.\n",
    "\n",
    "#\n",
    "# For your reference:\n",
    "#\n",
    "# SinglyLinkedListNode:\n",
    "#     int data\n",
    "#     SinglyLinkedListNode next\n",
    "#\n",
    "#\n",
    "def compare_lists(llist1, llist2):\n",
    "\n",
    "    while llist1 != None and  llist2 != None:\n",
    "        if llist1.data == llist2.data:\n",
    "            print(f'{llist1.data} , {llist2.data}')\n",
    "            llist1 = llist1.next\n",
    "            llist2 = llist2.next\n",
    "        else:\n",
    "            return 0\n",
    "    if llist1 == None and llist2 == None:\n",
    "        return 1\n",
    "    else:\n",
    "        return 0"
   ]
  },
  {
   "cell_type": "markdown",
   "id": "1c1ae350-de1a-4d15-8c09-925b582df2e5",
   "metadata": {},
   "source": [
    "Recursive Digit Sum"
   ]
  },
  {
   "cell_type": "code",
   "execution_count": null,
   "id": "ef8374fd-b47f-4b26-95e0-ac5b47559759",
   "metadata": {},
   "outputs": [],
   "source": [
    "#!/bin/python3\n",
    "\n",
    "import math\n",
    "import os\n",
    "import random\n",
    "import re\n",
    "import sys\n",
    "\n",
    "#\n",
    "# Complete the 'superDigit' function below.\n",
    "#\n",
    "# The function is expected to return an INTEGER.\n",
    "# The function accepts following parameters:\n",
    "#  1. STRING n\n",
    "#  2. INTEGER k\n",
    "#\n",
    "\n",
    "def superDigit(n, k):\n",
    "    if k*len(n)==1:\n",
    "        return int(n)\n",
    "    lista_sd = list(n)\n",
    "    sd=0\n",
    "    for num in lista_sd:\n",
    "        sd+=int(num)\n",
    "    return superDigit(str(k*sd), 1)\n",
    "\n",
    "if __name__ == '__main__':\n",
    "    fptr = open(os.environ['OUTPUT_PATH'], 'w')\n",
    "\n",
    "    first_multiple_input = input().rstrip().split()\n",
    "\n",
    "    n = first_multiple_input[0]\n",
    "\n",
    "    k = int(first_multiple_input[1])\n",
    "\n",
    "    result = superDigit(n, k)\n",
    "\n",
    "    fptr.write(str(result) + '\\n')\n",
    "\n",
    "    fptr.close()"
   ]
  },
  {
   "cell_type": "markdown",
   "id": "90c97414-a5c1-433e-aa62-787396e1e514",
   "metadata": {},
   "source": [
    "Sherlock and Array"
   ]
  },
  {
   "cell_type": "code",
   "execution_count": null,
   "id": "3f9a6077-4b1e-424a-af80-cec87c2152f3",
   "metadata": {},
   "outputs": [],
   "source": [
    "#!/bin/python3\n",
    "\n",
    "import math\n",
    "import os\n",
    "import random\n",
    "import re\n",
    "import sys\n",
    "\n",
    "#\n",
    "# Complete the 'balancedSums' function below.\n",
    "#\n",
    "# The function is expected to return a STRING.\n",
    "# The function accepts INTEGER_ARRAY arr as parameter.\n",
    "#\n",
    "\n",
    "def balancedSums(arr):\n",
    "    \n",
    "    while len(arr)>5:\n",
    "        idx = math.floor(len(arr)/2)\n",
    "        if sum(arr[:idx])==sum(arr[idx+1:]):\n",
    "            return 'YES'\n",
    "        elif sum(arr[:idx])>sum(arr[idx+1:]):\n",
    "            arr[idx+1]= sum(arr[idx+1:])\n",
    "            arr = arr[:idx+2]\n",
    "        elif sum(arr[:idx])<sum(arr[idx+1:]):\n",
    "            arr[idx-1]=sum(arr[:idx])\n",
    "            arr = arr[idx-1:]\n",
    "        else:\n",
    "            return 'NO'   \n",
    "    i=0\n",
    "    while i<n:\n",
    "        if sum(arr[0:i])==sum(arr[i+1:n]):\n",
    "            return 'YES'\n",
    "        i+=1\n",
    "    return 'NO'\n",
    "\n",
    "if __name__ == '__main__':\n",
    "    fptr = open(os.environ['OUTPUT_PATH'], 'w')\n",
    "\n",
    "    T = int(input().strip())\n",
    "\n",
    "    for T_itr in range(T):\n",
    "        n = int(input().strip())\n",
    "\n",
    "        arr = list(map(int, input().rstrip().split()))\n",
    "\n",
    "        result = balancedSums(arr)\n",
    "\n",
    "        fptr.write(result + '\\n')\n",
    "\n",
    "    fptr.close()\n",
    "\n"
   ]
  }
 ],
 "metadata": {
  "kernelspec": {
   "display_name": "Python 3",
   "language": "python",
   "name": "python3"
  },
  "language_info": {
   "codemirror_mode": {
    "name": "ipython",
    "version": 3
   },
   "file_extension": ".py",
   "mimetype": "text/x-python",
   "name": "python",
   "nbconvert_exporter": "python",
   "pygments_lexer": "ipython3",
   "version": "3.8.8"
  }
 },
 "nbformat": 4,
 "nbformat_minor": 5
}
