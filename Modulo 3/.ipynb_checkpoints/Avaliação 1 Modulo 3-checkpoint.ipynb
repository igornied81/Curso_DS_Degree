{
 "cells": [
  {
   "cell_type": "markdown",
   "id": "c117d1bb-f5d6-41cf-8489-5eb086acdb2b",
   "metadata": {
    "tags": []
   },
   "source": [
    "Nome: IGOR DUARTE NIEDERAUER"
   ]
  },
  {
   "cell_type": "markdown",
   "id": "e593c6ee-8472-418f-aab8-a1a6e0bdb69a",
   "metadata": {
    "tags": []
   },
   "source": [
    "Birthday Cake Candles"
   ]
  },
  {
   "cell_type": "code",
   "execution_count": null,
   "id": "c5c37050-0b4b-4be8-a04f-1dccc32b3e1b",
   "metadata": {},
   "outputs": [],
   "source": [
    "#!/bin/python3\n",
    "\n",
    "import math\n",
    "import os\n",
    "import random\n",
    "import re\n",
    "import sys\n",
    "\n",
    "#\n",
    "# Complete the 'birthdayCakeCandles' function below.\n",
    "#\n",
    "# The function is expected to return an INTEGER.\n",
    "# The function accepts INTEGER_ARRAY candles as parameter.\n",
    "#\n",
    "\n",
    "def birthdayCakeCandles(candles):\n",
    "    n = max(candles)\n",
    "    i=0\n",
    "    for height in candles:\n",
    "        if height==n:\n",
    "            i+=1\n",
    "    return i\n",
    "        \n",
    "\n",
    "if __name__ == '__main__':\n",
    "    fptr = open(os.environ['OUTPUT_PATH'], 'w')\n",
    "\n",
    "    candles_count = int(input().strip())\n",
    "\n",
    "    candles = list(map(int, input().rstrip().split()))\n",
    "\n",
    "    result = birthdayCakeCandles(candles)\n",
    "\n",
    "    fptr.write(str(result) + '\\n')\n",
    "\n",
    "    fptr.close()\n",
    "\n"
   ]
  },
  {
   "cell_type": "markdown",
   "id": "aba1cff2-b32a-4bf1-9bc8-a4358cb10d27",
   "metadata": {},
   "source": [
    "Time conversion"
   ]
  },
  {
   "cell_type": "code",
   "execution_count": null,
   "id": "cb834895-7f19-46f5-a21e-ffef722f5d25",
   "metadata": {},
   "outputs": [],
   "source": [
    "#!/bin/python3\n",
    "\n",
    "import math\n",
    "import os\n",
    "import random\n",
    "import re\n",
    "import sys\n",
    "\n",
    "#\n",
    "# Complete the 'timeConversion' function below.\n",
    "#\n",
    "# The function is expected to return a STRING.\n",
    "# The function accepts STRING s as parameter.\n",
    "#\n",
    "\n",
    "def timeConversion(s):\n",
    "    shift = s[8:10]\n",
    "    e = str(s[2:8])\n",
    "    i = str(s[0:2])\n",
    "    if shift == 'AM' and i == '12':\n",
    "        i = '00'\n",
    "    elif shift == 'PM' and i == '12':\n",
    "        i = '12'\n",
    "    elif shift == 'PM':\n",
    "        i = str(int(i) + 12)\n",
    "        \n",
    "    return i+e\n",
    "    \n",
    "\n",
    "if __name__ == '__main__':\n",
    "    fptr = open(os.environ['OUTPUT_PATH'], 'w')\n",
    "\n",
    "    s = input()\n",
    "\n",
    "    result = timeConversion(s)\n",
    "\n",
    "    fptr.write(result + '\\n')\n",
    "\n",
    "    fptr.close()"
   ]
  },
  {
   "cell_type": "markdown",
   "id": "0657d11d-8e49-4d68-9578-07e78d29bfa3",
   "metadata": {},
   "source": [
    "Staircase"
   ]
  },
  {
   "cell_type": "code",
   "execution_count": null,
   "id": "9ebeecc8-709a-4df2-befd-cb40c3a15b9d",
   "metadata": {},
   "outputs": [],
   "source": [
    "#!/bin/python3\n",
    "\n",
    "import math\n",
    "import os\n",
    "import random\n",
    "import re\n",
    "import sys\n",
    "\n",
    "#\n",
    "# Complete the 'staircase' function below.\n",
    "#\n",
    "# The function accepts INTEGER n as parameter.\n",
    "#\n",
    "\n",
    "def staircase(n):\n",
    "    i=1\n",
    "    while i<=n:\n",
    "        print(' '*(n-i)+'#'*i)\n",
    "        i+=1\n",
    "\n",
    "if __name__ == '__main__':\n",
    "    n = int(input().strip())\n",
    "\n",
    "    staircase(n)\n",
    "\n"
   ]
  }
 ],
 "metadata": {
  "kernelspec": {
   "display_name": "Python 3",
   "language": "python",
   "name": "python3"
  },
  "language_info": {
   "codemirror_mode": {
    "name": "ipython",
    "version": 3
   },
   "file_extension": ".py",
   "mimetype": "text/x-python",
   "name": "python",
   "nbconvert_exporter": "python",
   "pygments_lexer": "ipython3",
   "version": "3.8.8"
  }
 },
 "nbformat": 4,
 "nbformat_minor": 5
}
